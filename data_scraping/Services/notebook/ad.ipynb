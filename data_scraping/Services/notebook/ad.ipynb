{
 "cells": [
  {
   "cell_type": "code",
   "execution_count": 1,
   "id": "e66acb07",
   "metadata": {},
   "outputs": [],
   "source": [
    "from bs4 import BeautifulSoup\n",
    "import pandas as pd\n",
    "\n",
    "with open(r'C:\\Users\\GPU\\Desktop\\data_scraping\\Services\\ad_services.html','r',encoding='utf-8') as f:\n",
    "    html = f.read()\n",
    "soup = BeautifulSoup(html)"
   ]
  },
  {
   "cell_type": "markdown",
   "id": "e7d6154c",
   "metadata": {},
   "source": [
    "### Application Development & Maintenance Services"
   ]
  },
  {
   "cell_type": "code",
   "execution_count": 3,
   "id": "ebca68a2",
   "metadata": {},
   "outputs": [
    {
     "data": {
      "text/html": [
       "<div>\n",
       "<style scoped>\n",
       "    .dataframe tbody tr th:only-of-type {\n",
       "        vertical-align: middle;\n",
       "    }\n",
       "\n",
       "    .dataframe tbody tr th {\n",
       "        vertical-align: top;\n",
       "    }\n",
       "\n",
       "    .dataframe thead th {\n",
       "        text-align: right;\n",
       "    }\n",
       "</style>\n",
       "<table border=\"1\" class=\"dataframe\">\n",
       "  <thead>\n",
       "    <tr style=\"text-align: right;\">\n",
       "      <th></th>\n",
       "      <th>AD(Services)</th>\n",
       "    </tr>\n",
       "  </thead>\n",
       "  <tbody>\n",
       "    <tr>\n",
       "      <th>0</th>\n",
       "      <td>Development of Intuitive and Innovative Apps</td>\n",
       "    </tr>\n",
       "    <tr>\n",
       "      <th>1</th>\n",
       "      <td>Application Maintenance and 24/7 support.</td>\n",
       "    </tr>\n",
       "    <tr>\n",
       "      <th>2</th>\n",
       "      <td>Performance Optimization</td>\n",
       "    </tr>\n",
       "    <tr>\n",
       "      <th>3</th>\n",
       "      <td>Version Upgrades and Enhancements</td>\n",
       "    </tr>\n",
       "    <tr>\n",
       "      <th>4</th>\n",
       "      <td>Integration with Third-party Systems</td>\n",
       "    </tr>\n",
       "    <tr>\n",
       "      <th>5</th>\n",
       "      <td>Application Testing</td>\n",
       "    </tr>\n",
       "  </tbody>\n",
       "</table>\n",
       "</div>"
      ],
      "text/plain": [
       "                                   AD(Services)\n",
       "0  Development of Intuitive and Innovative Apps\n",
       "1     Application Maintenance and 24/7 support.\n",
       "2                      Performance Optimization\n",
       "3             Version Upgrades and Enhancements\n",
       "4          Integration with Third-party Systems\n",
       "5                           Application Testing"
      ]
     },
     "execution_count": 3,
     "metadata": {},
     "output_type": "execute_result"
    }
   ],
   "source": [
    "ad_hwch = soup.find_all('p',{'class':'text-center m-0 mx-4'})\n",
    "AD_hwch = []\n",
    "for i in ad_hwch:\n",
    "    AD_hwch.append(i.text)\n",
    "AD_hwch = {\n",
    "    'AD(Services)': AD_hwch\n",
    "}\n",
    "AD_hwch = pd.DataFrame(AD_hwch)\n",
    "AD_hwch"
   ]
  },
  {
   "cell_type": "markdown",
   "id": "bdbe09a9",
   "metadata": {},
   "source": [
    "### Application Development & Maintenance Offering"
   ]
  },
  {
   "cell_type": "code",
   "execution_count": 15,
   "id": "e0e33ba1",
   "metadata": {},
   "outputs": [
    {
     "data": {
      "text/html": [
       "<div>\n",
       "<style scoped>\n",
       "    .dataframe tbody tr th:only-of-type {\n",
       "        vertical-align: middle;\n",
       "    }\n",
       "\n",
       "    .dataframe tbody tr th {\n",
       "        vertical-align: top;\n",
       "    }\n",
       "\n",
       "    .dataframe thead th {\n",
       "        text-align: right;\n",
       "    }\n",
       "</style>\n",
       "<table border=\"1\" class=\"dataframe\">\n",
       "  <thead>\n",
       "    <tr style=\"text-align: right;\">\n",
       "      <th></th>\n",
       "      <th>Services</th>\n",
       "      <th>Description</th>\n",
       "    </tr>\n",
       "  </thead>\n",
       "  <tbody>\n",
       "    <tr>\n",
       "      <th>0</th>\n",
       "      <td>Application Development Services</td>\n",
       "      <td>Our Global Delivery Model ensures top-notch Ap...</td>\n",
       "    </tr>\n",
       "    <tr>\n",
       "      <th>1</th>\n",
       "      <td>Maintenance Services</td>\n",
       "      <td>We provide extensive maintenance services for ...</td>\n",
       "    </tr>\n",
       "    <tr>\n",
       "      <th>2</th>\n",
       "      <td>Database Services</td>\n",
       "      <td>Ensure efficient data organization with our ex...</td>\n",
       "    </tr>\n",
       "    <tr>\n",
       "      <th>3</th>\n",
       "      <td>Migration Services</td>\n",
       "      <td>Through our customized Application Migration s...</td>\n",
       "    </tr>\n",
       "  </tbody>\n",
       "</table>\n",
       "</div>"
      ],
      "text/plain": [
       "                           Services  \\\n",
       "0  Application Development Services   \n",
       "1              Maintenance Services   \n",
       "2                 Database Services   \n",
       "3                Migration Services   \n",
       "\n",
       "                                         Description  \n",
       "0  Our Global Delivery Model ensures top-notch Ap...  \n",
       "1  We provide extensive maintenance services for ...  \n",
       "2  Ensure efficient data organization with our ex...  \n",
       "3  Through our customized Application Migration s...  "
      ]
     },
     "execution_count": 15,
     "metadata": {},
     "output_type": "execute_result"
    }
   ],
   "source": [
    "ad_off = soup.find_all('h6',{'class':'m-0 mb-4'})\n",
    "ad_ser = soup.find_all('div',{'class':'row pt-5'})\n",
    "AD_off = []\n",
    "AD_ser = []\n",
    "for i in ad_off:\n",
    "    AD_off.append(i.text)\n",
    "for i in ad_ser:\n",
    "    for j in i.find_all('p'):\n",
    "        AD_ser.append(j.text)\n",
    "AD_off = {\n",
    "    'Services': AD_off,\n",
    "    'Description':AD_ser\n",
    "}\n",
    "AD_off = pd.DataFrame(AD_off)\n",
    "AD_off"
   ]
  },
  {
   "cell_type": "markdown",
   "id": "555b42ea",
   "metadata": {},
   "source": [
    "### Cloud Development Services"
   ]
  },
  {
   "cell_type": "markdown",
   "id": "87233da7",
   "metadata": {},
   "source": [
    "##### Platform as a Service (PaaS)"
   ]
  },
  {
   "cell_type": "code",
   "execution_count": 37,
   "id": "b6a7594c",
   "metadata": {},
   "outputs": [],
   "source": [
    "paas_s = soup.find_all('div',{'class':'modelTypes'})\n",
    "paas_d = soup.find_all('div',{'class':'modelTypes'})\n",
    "Paas_s = []\n",
    "Paas_d = []\n",
    "\n",
    "for i in paas_s:\n",
    "    for j in i.find_all('h6'):\n",
    "        Paas_s.append(j.text)\n",
    "for i in paas_d:\n",
    "    for j in i.find_all('p'):\n",
    "        Paas_d.append(j.text)\n",
    "Cloud_Service = {\n",
    "    'Service':Paas_s,\n",
    "    'Description':Paas_d\n",
    "                 }\n",
    "Cloud_Service = pd.DataFrame(Cloud_Service)"
   ]
  },
  {
   "cell_type": "code",
   "execution_count": 41,
   "id": "a818708f",
   "metadata": {},
   "outputs": [],
   "source": [
    "Paas_Services = Cloud_Service[0:4]\n",
    "Saas_Services = Cloud_Service[4:]"
   ]
  },
  {
   "cell_type": "code",
   "execution_count": 43,
   "id": "551c654b",
   "metadata": {},
   "outputs": [
    {
     "data": {
      "text/html": [
       "<div>\n",
       "<style scoped>\n",
       "    .dataframe tbody tr th:only-of-type {\n",
       "        vertical-align: middle;\n",
       "    }\n",
       "\n",
       "    .dataframe tbody tr th {\n",
       "        vertical-align: top;\n",
       "    }\n",
       "\n",
       "    .dataframe thead th {\n",
       "        text-align: right;\n",
       "    }\n",
       "</style>\n",
       "<table border=\"1\" class=\"dataframe\">\n",
       "  <thead>\n",
       "    <tr style=\"text-align: right;\">\n",
       "      <th></th>\n",
       "      <th>Service</th>\n",
       "      <th>Description</th>\n",
       "    </tr>\n",
       "  </thead>\n",
       "  <tbody>\n",
       "    <tr>\n",
       "      <th>0</th>\n",
       "      <td>Salesforce</td>\n",
       "      <td>Our Salesforce Platform solutions enable you t...</td>\n",
       "    </tr>\n",
       "    <tr>\n",
       "      <th>1</th>\n",
       "      <td>AWS</td>\n",
       "      <td>We specialize in migrating and configuring cus...</td>\n",
       "    </tr>\n",
       "    <tr>\n",
       "      <th>2</th>\n",
       "      <td>Azure Cloud</td>\n",
       "      <td>Experience the speed and flexibility of your a...</td>\n",
       "    </tr>\n",
       "    <tr>\n",
       "      <th>3</th>\n",
       "      <td>Google Cloud</td>\n",
       "      <td>Modernize your infrastructure and software in ...</td>\n",
       "    </tr>\n",
       "  </tbody>\n",
       "</table>\n",
       "</div>"
      ],
      "text/plain": [
       "         Service                                        Description\n",
       "0    Salesforce   Our Salesforce Platform solutions enable you t...\n",
       "1           AWS   We specialize in migrating and configuring cus...\n",
       "2   Azure Cloud   Experience the speed and flexibility of your a...\n",
       "3  Google Cloud   Modernize your infrastructure and software in ..."
      ]
     },
     "execution_count": 43,
     "metadata": {},
     "output_type": "execute_result"
    }
   ],
   "source": [
    "Paas_Services"
   ]
  },
  {
   "cell_type": "code",
   "execution_count": 42,
   "id": "f2000392",
   "metadata": {},
   "outputs": [
    {
     "data": {
      "text/html": [
       "<div>\n",
       "<style scoped>\n",
       "    .dataframe tbody tr th:only-of-type {\n",
       "        vertical-align: middle;\n",
       "    }\n",
       "\n",
       "    .dataframe tbody tr th {\n",
       "        vertical-align: top;\n",
       "    }\n",
       "\n",
       "    .dataframe thead th {\n",
       "        text-align: right;\n",
       "    }\n",
       "</style>\n",
       "<table border=\"1\" class=\"dataframe\">\n",
       "  <thead>\n",
       "    <tr style=\"text-align: right;\">\n",
       "      <th></th>\n",
       "      <th>Service</th>\n",
       "      <th>Description</th>\n",
       "    </tr>\n",
       "  </thead>\n",
       "  <tbody>\n",
       "    <tr>\n",
       "      <th>4</th>\n",
       "      <td>Application Consulting</td>\n",
       "      <td>SPSoft SaaS consultants will transform your id...</td>\n",
       "    </tr>\n",
       "    <tr>\n",
       "      <th>5</th>\n",
       "      <td>Prototyping &amp; Design</td>\n",
       "      <td>Embark on a user-centric journey in SaaS appli...</td>\n",
       "    </tr>\n",
       "    <tr>\n",
       "      <th>6</th>\n",
       "      <td>Custom Application Development</td>\n",
       "      <td>We build intricate, multi-tenant applications ...</td>\n",
       "    </tr>\n",
       "    <tr>\n",
       "      <th>7</th>\n",
       "      <td>Migration</td>\n",
       "      <td>Achieve a seamless transition to a SaaS busin...</td>\n",
       "    </tr>\n",
       "    <tr>\n",
       "      <th>8</th>\n",
       "      <td>Modernization &amp; Support</td>\n",
       "      <td>Elevate your SaaS applications with our moder...</td>\n",
       "    </tr>\n",
       "  </tbody>\n",
       "</table>\n",
       "</div>"
      ],
      "text/plain": [
       "                           Service  \\\n",
       "4          Application Consulting    \n",
       "5            Prototyping & Design    \n",
       "6  Custom Application Development    \n",
       "7                       Migration    \n",
       "8          Modernization & Support   \n",
       "\n",
       "                                         Description  \n",
       "4  SPSoft SaaS consultants will transform your id...  \n",
       "5  Embark on a user-centric journey in SaaS appli...  \n",
       "6  We build intricate, multi-tenant applications ...  \n",
       "7   Achieve a seamless transition to a SaaS busin...  \n",
       "8   Elevate your SaaS applications with our moder...  "
      ]
     },
     "execution_count": 42,
     "metadata": {},
     "output_type": "execute_result"
    }
   ],
   "source": [
    "Saas_Services"
   ]
  }
 ],
 "metadata": {
  "kernelspec": {
   "display_name": "Python (env_d)",
   "language": "python",
   "name": "env_d"
  },
  "language_info": {
   "codemirror_mode": {
    "name": "ipython",
    "version": 3
   },
   "file_extension": ".py",
   "mimetype": "text/x-python",
   "name": "python",
   "nbconvert_exporter": "python",
   "pygments_lexer": "ipython3",
   "version": "3.10.15"
  }
 },
 "nbformat": 4,
 "nbformat_minor": 5
}
