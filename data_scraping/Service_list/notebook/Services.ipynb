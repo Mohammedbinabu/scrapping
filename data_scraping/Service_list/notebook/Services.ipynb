{
 "cells": [
  {
   "cell_type": "code",
   "execution_count": 17,
   "id": "a6b4051d",
   "metadata": {},
   "outputs": [],
   "source": [
    "with open(r'C:\\Users\\GPU\\Desktop\\data_scraping\\services.html','r',encoding='utf-8') as f:\n",
    "    html = f.read() "
   ]
  },
  {
   "cell_type": "code",
   "execution_count": 18,
   "id": "435d34e6",
   "metadata": {},
   "outputs": [],
   "source": [
    "from bs4 import BeautifulSoup\n",
    "import pandas as pd"
   ]
  },
  {
   "cell_type": "code",
   "execution_count": 19,
   "id": "ee0fb505",
   "metadata": {},
   "outputs": [],
   "source": [
    "\n",
    "soup = BeautifulSoup(html, \"lxml\")"
   ]
  },
  {
   "cell_type": "code",
   "execution_count": 37,
   "id": "2151bf49",
   "metadata": {},
   "outputs": [
    {
     "name": "stdout",
     "output_type": "stream",
     "text": [
      "['AI Development', 'Data Analytics', 'Application Development', 'Mobile App Development', 'Web Development', 'Testing', 'Digital Marketing', 'Workforce solutions', 'Prompt Engineering', 'AWS', 'Banking', 'Transport', 'Manufacturing', 'Retail', 'HealthCare', 'Telecom', 'Gaming', 'E-Learning']\n"
     ]
    }
   ],
   "source": [
    "a = soup.find_all('div',{'class':'accordion-body'})\n",
    "services = []\n",
    "\n",
    "for div in a:\n",
    "    li_tags = div.find_all('li')\n",
    "    for li in li_tags:\n",
    "        link = li.find('a')\n",
    "        if link:\n",
    "            services.append(link.text.strip())\n",
    "\n",
    "print(services)"
   ]
  },
  {
   "cell_type": "code",
   "execution_count": 38,
   "id": "f1f835dd",
   "metadata": {},
   "outputs": [],
   "source": [
    "Services = {\n",
    "    'Services': services\n",
    "}\n",
    "Services = pd.DataFrame(Services)"
   ]
  },
  {
   "cell_type": "code",
   "execution_count": 39,
   "id": "340ca5e1",
   "metadata": {},
   "outputs": [
    {
     "data": {
      "text/html": [
       "<div>\n",
       "<style scoped>\n",
       "    .dataframe tbody tr th:only-of-type {\n",
       "        vertical-align: middle;\n",
       "    }\n",
       "\n",
       "    .dataframe tbody tr th {\n",
       "        vertical-align: top;\n",
       "    }\n",
       "\n",
       "    .dataframe thead th {\n",
       "        text-align: right;\n",
       "    }\n",
       "</style>\n",
       "<table border=\"1\" class=\"dataframe\">\n",
       "  <thead>\n",
       "    <tr style=\"text-align: right;\">\n",
       "      <th></th>\n",
       "      <th>Services</th>\n",
       "    </tr>\n",
       "  </thead>\n",
       "  <tbody>\n",
       "    <tr>\n",
       "      <th>0</th>\n",
       "      <td>AI Development</td>\n",
       "    </tr>\n",
       "    <tr>\n",
       "      <th>1</th>\n",
       "      <td>Data Analytics</td>\n",
       "    </tr>\n",
       "    <tr>\n",
       "      <th>2</th>\n",
       "      <td>Application Development</td>\n",
       "    </tr>\n",
       "    <tr>\n",
       "      <th>3</th>\n",
       "      <td>Mobile App Development</td>\n",
       "    </tr>\n",
       "    <tr>\n",
       "      <th>4</th>\n",
       "      <td>Web Development</td>\n",
       "    </tr>\n",
       "    <tr>\n",
       "      <th>5</th>\n",
       "      <td>Testing</td>\n",
       "    </tr>\n",
       "    <tr>\n",
       "      <th>6</th>\n",
       "      <td>Digital Marketing</td>\n",
       "    </tr>\n",
       "    <tr>\n",
       "      <th>7</th>\n",
       "      <td>Workforce solutions</td>\n",
       "    </tr>\n",
       "    <tr>\n",
       "      <th>8</th>\n",
       "      <td>Prompt Engineering</td>\n",
       "    </tr>\n",
       "    <tr>\n",
       "      <th>9</th>\n",
       "      <td>AWS</td>\n",
       "    </tr>\n",
       "    <tr>\n",
       "      <th>10</th>\n",
       "      <td>Banking</td>\n",
       "    </tr>\n",
       "    <tr>\n",
       "      <th>11</th>\n",
       "      <td>Transport</td>\n",
       "    </tr>\n",
       "    <tr>\n",
       "      <th>12</th>\n",
       "      <td>Manufacturing</td>\n",
       "    </tr>\n",
       "    <tr>\n",
       "      <th>13</th>\n",
       "      <td>Retail</td>\n",
       "    </tr>\n",
       "    <tr>\n",
       "      <th>14</th>\n",
       "      <td>HealthCare</td>\n",
       "    </tr>\n",
       "    <tr>\n",
       "      <th>15</th>\n",
       "      <td>Telecom</td>\n",
       "    </tr>\n",
       "    <tr>\n",
       "      <th>16</th>\n",
       "      <td>Gaming</td>\n",
       "    </tr>\n",
       "    <tr>\n",
       "      <th>17</th>\n",
       "      <td>E-Learning</td>\n",
       "    </tr>\n",
       "  </tbody>\n",
       "</table>\n",
       "</div>"
      ],
      "text/plain": [
       "                   Services\n",
       "0            AI Development\n",
       "1            Data Analytics\n",
       "2   Application Development\n",
       "3    Mobile App Development\n",
       "4           Web Development\n",
       "5                   Testing\n",
       "6         Digital Marketing\n",
       "7       Workforce solutions\n",
       "8        Prompt Engineering\n",
       "9                       AWS\n",
       "10                  Banking\n",
       "11                Transport\n",
       "12            Manufacturing\n",
       "13                   Retail\n",
       "14               HealthCare\n",
       "15                  Telecom\n",
       "16                   Gaming\n",
       "17               E-Learning"
      ]
     },
     "execution_count": 39,
     "metadata": {},
     "output_type": "execute_result"
    }
   ],
   "source": [
    "Services"
   ]
  },
  {
   "cell_type": "code",
   "execution_count": null,
   "id": "ac8bddce",
   "metadata": {},
   "outputs": [],
   "source": []
  }
 ],
 "metadata": {
  "kernelspec": {
   "display_name": "Python (env_d)",
   "language": "python",
   "name": "env_gpu"
  },
  "language_info": {
   "codemirror_mode": {
    "name": "ipython",
    "version": 3
   },
   "file_extension": ".py",
   "mimetype": "text/x-python",
   "name": "python",
   "nbconvert_exporter": "python",
   "pygments_lexer": "ipython3",
   "version": "3.10.15"
  }
 },
 "nbformat": 4,
 "nbformat_minor": 5
}
