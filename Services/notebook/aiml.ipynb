{
 "cells": [
  {
   "cell_type": "code",
   "execution_count": 1,
   "id": "3671baa8",
   "metadata": {},
   "outputs": [],
   "source": [
    "from bs4 import BeautifulSoup\n",
    "import pandas as pd\n",
    "\n",
    "with open(r'C:\\Users\\GPU\\Desktop\\data_scraping\\Services\\aiml_services.html','r',encoding='utf-8') as f:\n",
    "    html = f.read()\n",
    "soup = BeautifulSoup(html)"
   ]
  },
  {
   "cell_type": "code",
   "execution_count": 10,
   "id": "d1216766",
   "metadata": {},
   "outputs": [],
   "source": [
    "project = soup.find_all('div',{'class':'card-title'})\n",
    "description = soup.find_all('p',{'class':'text-justify text-secondary'})\n",
    "Project = []\n",
    "Description = []\n",
    "for i in project:\n",
    "    Project.append(i.text.strip())\n",
    "for j in description:\n",
    "    Description.append(j.text.strip())"
   ]
  },
  {
   "cell_type": "code",
   "execution_count": 11,
   "id": "26256653",
   "metadata": {},
   "outputs": [
    {
     "data": {
      "text/html": [
       "<div>\n",
       "<style scoped>\n",
       "    .dataframe tbody tr th:only-of-type {\n",
       "        vertical-align: middle;\n",
       "    }\n",
       "\n",
       "    .dataframe tbody tr th {\n",
       "        vertical-align: top;\n",
       "    }\n",
       "\n",
       "    .dataframe thead th {\n",
       "        text-align: right;\n",
       "    }\n",
       "</style>\n",
       "<table border=\"1\" class=\"dataframe\">\n",
       "  <thead>\n",
       "    <tr style=\"text-align: right;\">\n",
       "      <th></th>\n",
       "      <th>Services</th>\n",
       "      <th>Project_Description</th>\n",
       "    </tr>\n",
       "  </thead>\n",
       "  <tbody>\n",
       "    <tr>\n",
       "      <th>0</th>\n",
       "      <td>Speech to Text</td>\n",
       "      <td>Our Generative LLM-based speech-to-text soluti...</td>\n",
       "    </tr>\n",
       "    <tr>\n",
       "      <th>1</th>\n",
       "      <td>Documents Search Bot</td>\n",
       "      <td>The Documents Search Bot is an innovative appl...</td>\n",
       "    </tr>\n",
       "    <tr>\n",
       "      <th>2</th>\n",
       "      <td>Face Recognition</td>\n",
       "      <td>Leveraging advanced computer vision and AI exp...</td>\n",
       "    </tr>\n",
       "    <tr>\n",
       "      <th>3</th>\n",
       "      <td>Image Enhancer</td>\n",
       "      <td>The Image Enhancer application is like a magic...</td>\n",
       "    </tr>\n",
       "    <tr>\n",
       "      <th>4</th>\n",
       "      <td>AI Object Detection Solutions</td>\n",
       "      <td>Elevate Your Operations with Tailored AI Objec...</td>\n",
       "    </tr>\n",
       "    <tr>\n",
       "      <th>5</th>\n",
       "      <td>PDF Data Extraction Application</td>\n",
       "      <td>The purpose of this application is to extract ...</td>\n",
       "    </tr>\n",
       "    <tr>\n",
       "      <th>6</th>\n",
       "      <td>PCB error Detection</td>\n",
       "      <td>Our PCB defect detection solution, leveraging ...</td>\n",
       "    </tr>\n",
       "    <tr>\n",
       "      <th>7</th>\n",
       "      <td>Retail Video Analytics</td>\n",
       "      <td>Retail video analytics has emerged as a powerf...</td>\n",
       "    </tr>\n",
       "  </tbody>\n",
       "</table>\n",
       "</div>"
      ],
      "text/plain": [
       "                          Services  \\\n",
       "0                   Speech to Text   \n",
       "1             Documents Search Bot   \n",
       "2                 Face Recognition   \n",
       "3                   Image Enhancer   \n",
       "4    AI Object Detection Solutions   \n",
       "5  PDF Data Extraction Application   \n",
       "6              PCB error Detection   \n",
       "7           Retail Video Analytics   \n",
       "\n",
       "                                 Project_Description  \n",
       "0  Our Generative LLM-based speech-to-text soluti...  \n",
       "1  The Documents Search Bot is an innovative appl...  \n",
       "2  Leveraging advanced computer vision and AI exp...  \n",
       "3  The Image Enhancer application is like a magic...  \n",
       "4  Elevate Your Operations with Tailored AI Objec...  \n",
       "5  The purpose of this application is to extract ...  \n",
       "6  Our PCB defect detection solution, leveraging ...  \n",
       "7  Retail video analytics has emerged as a powerf...  "
      ]
     },
     "execution_count": 11,
     "metadata": {},
     "output_type": "execute_result"
    }
   ],
   "source": [
    "ai_projects = {\n",
    "    'Services':Project,\n",
    "    'Project_Description':Description\n",
    "}\n",
    "AIML_project = pd.DataFrame(ai_projects)\n",
    "AIML_project"
   ]
  },
  {
   "cell_type": "code",
   "execution_count": 38,
   "id": "73652512",
   "metadata": {},
   "outputs": [
    {
     "name": "stdout",
     "output_type": "stream",
     "text": [
      "<div _ngcontent-scp-c50=\"\" class=\"col-md-6 col-lg-6 col-sm-12 mb-3\"><div _ngcontent-scp-c50=\"\" class=\"d-flex back py-3\"><img _ngcontent-scp-c50=\"\" alt=\"Advanced Visual Search\" class=\"px-3 img-fluid\" src=\"../../assets/images/AI/Advanced Visual Search.svg\"/><div _ngcontent-scp-c50=\"\" class=\"my-auto\"><p _ngcontent-scp-c50=\"\" class=\"m-0\">Advanced Visual Search</p></div></div></div>\n",
      "<div _ngcontent-scp-c50=\"\" class=\"col-md-6 col-lg-6 col-sm-12 mb-3\"><div _ngcontent-scp-c50=\"\" class=\"d-flex back py-3\"><img _ngcontent-scp-c50=\"\" alt=\"Image Similarity Matching\" class=\"px-3 img-fluid\" src=\"../../assets/images/AI/Image Similarity Matching.svg\"/><div _ngcontent-scp-c50=\"\" class=\"my-auto\"><p _ngcontent-scp-c50=\"\" class=\"m-0\">Image Similarity Matching</p></div></div></div>\n",
      "<div _ngcontent-scp-c50=\"\" class=\"col-md-6 col-lg-6 col-sm-12 mb-3\"><div _ngcontent-scp-c50=\"\" class=\"d-flex back py-3\"><img _ngcontent-scp-c50=\"\" alt=\"AI-driven Image Processing\" class=\"px-3 img-fluid\" src=\"../../assets/images/AI/AI-driven Image Processing.svg\"/><div _ngcontent-scp-c50=\"\" class=\"my-auto\"><p _ngcontent-scp-c50=\"\" class=\"m-0\">AI-driven Image Processing</p></div></div></div>\n",
      "<div _ngcontent-scp-c50=\"\" class=\"col-md-6 col-lg-6 col-sm-12 mb-3\"><div _ngcontent-scp-c50=\"\" class=\"d-flex back py-3\"><img _ngcontent-scp-c50=\"\" alt=\"AI-based Visual Inspection\" class=\"px-3 img-fluid\" src=\"../../assets/images/AI/AI-based Visual Inspection.svg\"/><div _ngcontent-scp-c50=\"\" class=\"my-auto\"><p _ngcontent-scp-c50=\"\" class=\"m-0\">AI-based Visual Inspection</p></div></div></div>\n",
      "<div _ngcontent-scp-c50=\"\" class=\"col-md-6 col-lg-6 col-sm-12 mb-3\"><div _ngcontent-scp-c50=\"\" class=\"d-flex back py-3\"><img _ngcontent-scp-c50=\"\" alt=\"Precision Image Segmentation\" class=\"px-3 img-fluid\" src=\"../../assets/images/AI/Precision Image Segmentation.svg\"/><div _ngcontent-scp-c50=\"\" class=\"my-auto\"><p _ngcontent-scp-c50=\"\" class=\"m-0\">Precision Image<br _ngcontent-scp-c50=\"\"/>Segmentation</p></div></div></div>\n",
      "<div _ngcontent-scp-c50=\"\" class=\"col-md-6 col-lg-6 col-sm-12 mb-3\"><div _ngcontent-scp-c50=\"\" class=\"d-flex back py-3\"><img _ngcontent-scp-c50=\"\" alt=\"Image Analytics Services for Data-driven Insights\" class=\"px-3 img-fluid bg-transparent\" src=\"../../assets/images/AI/Image Analytics Services for Data-driven Insights.svg\"/><div _ngcontent-scp-c50=\"\" class=\"my-auto\"><p _ngcontent-scp-c50=\"\" class=\"m-0\">Image Analytics Services<br _ngcontent-scp-c50=\"\"/>for Data-driven Insights</p></div></div></div>\n",
      "<div _ngcontent-scp-c50=\"\" class=\"col-md-6 col-lg-6 col-sm-12 mb-3\"><div _ngcontent-scp-c50=\"\" class=\"d-flex back py-3\"><img _ngcontent-scp-c50=\"\" alt=\"Video Analytics Solution for Actionable Intelligence\" class=\"px-3 img-fluid bg-transparent\" src=\"../../assets/images/AI/Video Analytics Solution for Actionable Intelligence.svg\"/><div _ngcontent-scp-c50=\"\" class=\"my-auto\"><p _ngcontent-scp-c50=\"\" class=\"m-0\">Video Analytics Solution</p><p _ngcontent-scp-c50=\"\" class=\"m-0\">for Actionable Intelligence</p></div></div></div>\n",
      "<div _ngcontent-scp-c50=\"\" class=\"col-md-6 col-lg-6 col-sm-12 mb-3\"><div _ngcontent-scp-c50=\"\" class=\"d-flex back py-3\"><img _ngcontent-scp-c50=\"\" alt=\"Access Control System\" class=\"px-3 py-1 img-fluid bg-transparent\" src=\"../../assets/images/AI/Access Control System.svg\"/><div _ngcontent-scp-c50=\"\" class=\"my-auto py-1\"><p _ngcontent-scp-c50=\"\" class=\"m-0\">Access Control System</p></div></div></div>\n",
      "<div _ngcontent-scp-c50=\"\" class=\"col-md-6 col-lg-6 col-sm-12 mb-3\"><div _ngcontent-scp-c50=\"\" class=\"d-flex back py-3\"><img _ngcontent-scp-c50=\"\" alt=\"Object Tracking for Enhanced Surveillance\" class=\"px-3 img-fluid bg-transparent\" src=\"../../assets/images/AI/Object Tracking for Enhanced Surveillance.svg\"/><div _ngcontent-scp-c50=\"\" class=\"my-auto\"><p _ngcontent-scp-c50=\"\" class=\"m-0\">Object Tracking for</p><p _ngcontent-scp-c50=\"\" class=\"m-0\">Enhanced Surveillance</p></div></div></div>\n",
      "<div _ngcontent-scp-c50=\"\" class=\"col-md-6 col-lg-6 col-sm-12 mb-3\"><div _ngcontent-scp-c50=\"\" class=\"d-flex back py-3\"><img _ngcontent-scp-c50=\"\" alt=\"OCR Service for Business Documentation\" class=\"px-3 img-fluid bg-transparent\" src=\"../../assets/images/AI/OCR Service for Business Documentation.svg\"/><div _ngcontent-scp-c50=\"\" class=\"my-auto\"><p _ngcontent-scp-c50=\"\" class=\"m-0\">OCR Service for Business</p><p _ngcontent-scp-c50=\"\" class=\"m-0\">Documentation</p></div></div></div>\n",
      "<div _ngcontent-scp-c50=\"\" class=\"col-md-6 col-lg-6 col-sm-12 mb-3\"><div _ngcontent-scp-c50=\"\" class=\"d-flex back py-3\"><img _ngcontent-scp-c50=\"\" alt=\"PCB Error Detection and Analysis\" class=\"px-3 img-fluid bg-transparent\" src=\"../../assets/images/AI/PCB Error Detection and Analysis.svg\"/><div _ngcontent-scp-c50=\"\" class=\"my-auto\"><p _ngcontent-scp-c50=\"\" class=\"m-0\">PCB Error Detection and</p><p _ngcontent-scp-c50=\"\" class=\"m-0\">Analysis</p></div></div></div>\n",
      "<div _ngcontent-scp-c50=\"\" class=\"col-md-6 col-lg-6 col-sm-12 mb-3\"><div _ngcontent-scp-c50=\"\" class=\"d-flex back py-4\"><img _ngcontent-scp-c50=\"\" alt=\"Vehicle Inspection\" class=\"px-3 img-fluid bg-transparent\" src=\"../../assets/images/AI/Vehicle Inspection.svg\"/><div _ngcontent-scp-c50=\"\" class=\"my-auto\"><p _ngcontent-scp-c50=\"\" class=\"m-0\">Vehicle Inspection</p></div></div></div>\n"
     ]
    }
   ],
   "source": [
    "ai_hwch = soup.find_all('div',{'class':'col-md-6 col-lg-6 col-sm-12 mb-3'})\n",
    "ai = {'Offering_AIML_Solns':ai_hwch}\n",
    "for i in ai_hwch:\n",
    "    print(i)\n"
   ]
  },
  {
   "cell_type": "code",
   "execution_count": null,
   "id": "c17f8ac8",
   "metadata": {},
   "outputs": [],
   "source": []
  },
  {
   "cell_type": "markdown",
   "id": "aaaa5592",
   "metadata": {},
   "source": [
    "### LLM"
   ]
  },
  {
   "cell_type": "code",
   "execution_count": 12,
   "id": "88db96cd",
   "metadata": {},
   "outputs": [],
   "source": [
    "llm = []\n",
    "LLM_data = soup.find_all('div',{'class':'col-md-9 col-lg-9 col-12 learnContent pt-3'})"
   ]
  },
  {
   "cell_type": "code",
   "execution_count": null,
   "id": "80f8b972",
   "metadata": {},
   "outputs": [
    {
     "data": {
      "text/plain": [
       "[<div _ngcontent-scp-c50=\"\" class=\"col-md-9 col-lg-9 col-12 learnContent pt-3\"><p _ngcontent-scp-c50=\"\">We develop custom language models using<br _ngcontent-scp-c50=\"\"/> GPT, DALL.E2, and other advanced AI<br _ngcontent-scp-c50=\"\"/> technologies. Our expertise in NLP, machine<br _ngcontent-scp-c50=\"\"/> learning, and data science enables us to<br _ngcontent-scp-c50=\"\"/> create robust solutions tailored to your <br _ngcontent-scp-c50=\"\"/>business needs. Our services include:</p><ul _ngcontent-scp-c50=\"\"><li _ngcontent-scp-c50=\"\">GPT solutions development</li><li _ngcontent-scp-c50=\"\">NLP software development</li><li _ngcontent-scp-c50=\"\">Business automation solutions</li><li _ngcontent-scp-c50=\"\">Data analytics software implementation</li></ul></div>,\n",
       " <div _ngcontent-scp-c50=\"\" class=\"col-md-9 col-lg-9 col-12 learnContent pt-3\"><p _ngcontent-scp-c50=\"\">We offer GPT integrations for existing systems,<br _ngcontent-scp-c50=\"\"/> allowing you to leverage GPT's<br _ngcontent-scp-c50=\"\"/> capabilities through APIs. Our services<br _ngcontent-scp-c50=\"\"/> include:</p><ul _ngcontent-scp-c50=\"\"><li _ngcontent-scp-c50=\"\">Feasibility analysis</li><li _ngcontent-scp-c50=\"\">Integration planning/prototyping</li><li _ngcontent-scp-c50=\"\">Integration &amp; testing</li><li _ngcontent-scp-c50=\"\">Maintenance &amp; improvement</li></ul></div>]"
      ]
     },
     "execution_count": 13,
     "metadata": {},
     "output_type": "execute_result"
    }
   ],
   "source": [
    "LLM_data[]"
   ]
  },
  {
   "cell_type": "code",
   "execution_count": null,
   "id": "e724816d",
   "metadata": {},
   "outputs": [],
   "source": []
  }
 ],
 "metadata": {
  "kernelspec": {
   "display_name": "Python (env_d)",
   "language": "python",
   "name": "env_gpu"
  },
  "language_info": {
   "codemirror_mode": {
    "name": "ipython",
    "version": 3
   },
   "file_extension": ".py",
   "mimetype": "text/x-python",
   "name": "python",
   "nbconvert_exporter": "python",
   "pygments_lexer": "ipython3",
   "version": "3.10.15"
  }
 },
 "nbformat": 4,
 "nbformat_minor": 5
}
